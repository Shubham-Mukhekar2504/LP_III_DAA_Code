{
 "cells": [
  {
   "cell_type": "code",
   "execution_count": 13,
   "id": "fe3bbc78-a8bc-4082-8cce-c8f4e8cdb8b8",
   "metadata": {},
   "outputs": [
    {
     "name": "stdout",
     "output_type": "stream",
     "text": [
      "75\n"
     ]
    }
   ],
   "source": [
    "def solve_knapsack():\n",
    "    val = [15, 14, 10, 45, 30]  # Value array\n",
    "    wt = [2, 5, 1, 3, 4]  # Weight array\n",
    "    W = 7\n",
    "    n = len(val) - 1\n",
    "\n",
    "    def knapsack(W, n):  # (Remaining Weight, Number of items checked)\n",
    "        # Base case\n",
    "        if n < 0 or W <= 0:\n",
    "            return 0\n",
    "\n",
    "        # Higher weight than available\n",
    "        if wt[n] > W:\n",
    "            return knapsack(W, n - 1)\n",
    "\n",
    "        else:\n",
    "            return max(val[n] + knapsack(W - wt[n], n - 1), knapsack(W, n - 1))\n",
    "            # max(including , not including)\n",
    "\n",
    "    print(knapsack(W, n))\n",
    "\n",
    "\n",
    "if __name__ == \"__main__\":\n",
    "    solve_knapsack()\n"
   ]
  },
  {
   "cell_type": "code",
   "execution_count": null,
   "id": "37a541d9-59cd-4fe1-91bc-f7b7290d8e22",
   "metadata": {},
   "outputs": [],
   "source": []
  }
 ],
 "metadata": {
  "kernelspec": {
   "display_name": "Python 3 (ipykernel)",
   "language": "python",
   "name": "python3"
  },
  "language_info": {
   "codemirror_mode": {
    "name": "ipython",
    "version": 3
   },
   "file_extension": ".py",
   "mimetype": "text/x-python",
   "name": "python",
   "nbconvert_exporter": "python",
   "pygments_lexer": "ipython3",
   "version": "3.12.4"
  }
 },
 "nbformat": 4,
 "nbformat_minor": 5
}
