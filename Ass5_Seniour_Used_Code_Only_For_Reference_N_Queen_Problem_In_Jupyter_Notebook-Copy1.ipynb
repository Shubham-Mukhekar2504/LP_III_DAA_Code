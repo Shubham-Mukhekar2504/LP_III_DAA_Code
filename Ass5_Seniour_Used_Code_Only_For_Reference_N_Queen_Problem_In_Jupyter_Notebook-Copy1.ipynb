{
 "cells": [
  {
   "cell_type": "code",
   "execution_count": 7,
   "id": "35f928c3-817d-46ad-94dd-4a8fe2128fb5",
   "metadata": {},
   "outputs": [
    {
     "name": "stdout",
     "output_type": "stream",
     "text": [
      "0 1 0 0\n",
      "0 0 0 1\n",
      "1 0 0 0\n",
      "0 0 1 0\n",
      "\n",
      "0 0 1 0\n",
      "1 0 0 0\n",
      "0 0 0 1\n",
      "0 1 0 0\n",
      "\n"
     ]
    }
   ],
   "source": [
    "def n_queens(n):\n",
    "    col = set()\n",
    "    posDiag = set()  # (r+c)\n",
    "    negDiag = set()  # (r-c)\n",
    "    res = []\n",
    "    board = [[\"0\"] * n for i in range(n)]\n",
    "\n",
    "    def backtrack(r):\n",
    "        if r == n:\n",
    "            copy = [\" \".join(row) for row in board]\n",
    "            res.append(copy)\n",
    "            return\n",
    "        \n",
    "        for c in range(n):\n",
    "            if c in col or (r + c) in posDiag or (r - c) in negDiag:\n",
    "                continue\n",
    "            col.add(c)\n",
    "            posDiag.add(r + c)\n",
    "            negDiag.add(r - c)\n",
    "            board[r][c] = \"1\"\n",
    "            backtrack(r + 1)\n",
    "            col.remove(c)\n",
    "            posDiag.remove(r + c)\n",
    "            negDiag.remove(r - c)\n",
    "            board[r][c] = \"0\"\n",
    "\n",
    "    backtrack(0)\n",
    "\n",
    "    for sol in res:\n",
    "        for row in sol:\n",
    "            print(row)\n",
    "        print()\n",
    "\n",
    "if __name__ == \"__main__\":\n",
    "    n_queens(4)\n"
   ]
  },
  {
   "cell_type": "code",
   "execution_count": null,
   "id": "10ff40c3-4b6c-40d0-a969-e3b48dc037ac",
   "metadata": {},
   "outputs": [],
   "source": []
  }
 ],
 "metadata": {
  "kernelspec": {
   "display_name": "Python 3 (ipykernel)",
   "language": "python",
   "name": "python3"
  },
  "language_info": {
   "codemirror_mode": {
    "name": "ipython",
    "version": 3
   },
   "file_extension": ".py",
   "mimetype": "text/x-python",
   "name": "python",
   "nbconvert_exporter": "python",
   "pygments_lexer": "ipython3",
   "version": "3.12.4"
  }
 },
 "nbformat": 4,
 "nbformat_minor": 5
}
