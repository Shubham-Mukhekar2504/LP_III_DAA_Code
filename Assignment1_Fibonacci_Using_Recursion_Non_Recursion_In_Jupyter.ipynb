{
 "cells": [
  {
   "cell_type": "code",
   "execution_count": 147,
   "id": "15ba85f6-b3de-4305-bc0b-90aca1b671dc",
   "metadata": {},
   "outputs": [
    {
     "name": "stdin",
     "output_type": "stream",
     "text": [
      "Enter the number of elements:  10\n"
     ]
    },
    {
     "name": "stdout",
     "output_type": "stream",
     "text": [
      "0 1 1 2 3 5 8 13 21 34 \n",
      "Total Steps : 8\n"
     ]
    }
   ],
   "source": [
    "def non_recursive_fibonacci(n):\n",
    "    first = 0\n",
    "    second = 1\n",
    "    steps = 0\n",
    "    print(first, second, end=\" \")  # Print first two numbers in one line\n",
    "    for _ in range(n - 2):\n",
    "        third = first + second\n",
    "        steps+=1\n",
    "        print(third, end=\" \")\n",
    "        first = second\n",
    "        second = third\n",
    "    print(f\"\\nTotal Steps : {steps}\")\n",
    "\n",
    "# Get user input for the number of elements\n",
    "n = int(input(\"Enter the number of elements: \"))\n",
    "non_recursive_fibonacci(n)"
   ]
  },
  {
   "cell_type": "code",
   "execution_count": 149,
   "id": "93c243c8-96a6-4a8b-b4ac-88ec7cb0c59b",
   "metadata": {},
   "outputs": [
    {
     "name": "stdin",
     "output_type": "stream",
     "text": [
      "Enter the number of elements:  10\n"
     ]
    },
    {
     "name": "stdout",
     "output_type": "stream",
     "text": [
      "0 1 1 2 3 5 8 13 21 34 "
     ]
    }
   ],
   "source": [
    "def recursive_fibonacci(n):\n",
    "    # Increment the step count for each call\n",
    "    if n <= 1:\n",
    "        return n\n",
    "    else:\n",
    "        return recursive_fibonacci(n - 1) + recursive_fibonacci(n - 2)\n",
    "\n",
    "if __name__ == \"__main__\":\n",
    "    n = int(input(\"Enter the number of elements: \"))\n",
    "    for i in range(n):\n",
    "        print(recursive_fibonacci(i), end=\" \")"
   ]
  },
  {
   "cell_type": "code",
   "execution_count": 151,
   "id": "489dfdd2-fcf1-4e58-96f1-d0f4098f59ee",
   "metadata": {},
   "outputs": [
    {
     "name": "stdin",
     "output_type": "stream",
     "text": [
      "Enter the number of elements:  10\n"
     ]
    },
    {
     "name": "stdout",
     "output_type": "stream",
     "text": [
      "0 1 1 2 3 5 8 13 21 34 \n",
      "Total Steps: 276\n"
     ]
    }
   ],
   "source": [
    "def recursive_fibonacci(n, steps):\n",
    "    # Increment the step count for each call\n",
    "    steps[0] += 1\n",
    "    if n <= 1:\n",
    "        return n\n",
    "    else:\n",
    "        return recursive_fibonacci(n - 1, steps) + recursive_fibonacci(n - 2, steps)\n",
    "\n",
    "if __name__ == \"__main__\":\n",
    "    n = int(input(\"Enter the number of elements: \"))\n",
    "    steps = [0]  # Use a list to store steps count as a mutable reference\n",
    "    for i in range(n):\n",
    "        print(recursive_fibonacci(i, steps), end=\" \")\n",
    "    print(f\"\\nTotal Steps: {steps[0]}\")\n"
   ]
  },
  {
   "cell_type": "code",
   "execution_count": 153,
   "id": "58f6bb8d-7c42-44bd-85c2-1950da452c06",
   "metadata": {},
   "outputs": [
    {
     "name": "stdin",
     "output_type": "stream",
     "text": [
      "Enter the number of elements:  10\n"
     ]
    },
    {
     "name": "stdout",
     "output_type": "stream",
     "text": [
      "0 1 1 2 3 5 8 13 21 34 "
     ]
    }
   ],
   "source": [
    "def fib(n, f):\n",
    "    if n == 0 or n == 1:\n",
    "        return n\n",
    "    if f[n] != 0:\n",
    "        return f[n]\n",
    "\n",
    "    f[n] = fib(n - 1, f) + fib(n - 2, f)\n",
    "    return f[n]\n",
    "\n",
    "if __name__ == \"__main__\":\n",
    "    n = int(input(\"Enter the number of elements: \"))\n",
    "    f = [0] * (n + 1)  # List to store previously computed Fibonacci numbers\n",
    "    for i in range(n):\n",
    "        print(fib(i, f), end=\" \")\n"
   ]
  },
  {
   "cell_type": "code",
   "execution_count": null,
   "id": "f17cf1ba-a46b-4231-a03e-1cf251c5424b",
   "metadata": {},
   "outputs": [],
   "source": []
  }
 ],
 "metadata": {
  "kernelspec": {
   "display_name": "Python 3 (ipykernel)",
   "language": "python",
   "name": "python3"
  },
  "language_info": {
   "codemirror_mode": {
    "name": "ipython",
    "version": 3
   },
   "file_extension": ".py",
   "mimetype": "text/x-python",
   "name": "python",
   "nbconvert_exporter": "python",
   "pygments_lexer": "ipython3",
   "version": "3.12.3"
  }
 },
 "nbformat": 4,
 "nbformat_minor": 5
}
