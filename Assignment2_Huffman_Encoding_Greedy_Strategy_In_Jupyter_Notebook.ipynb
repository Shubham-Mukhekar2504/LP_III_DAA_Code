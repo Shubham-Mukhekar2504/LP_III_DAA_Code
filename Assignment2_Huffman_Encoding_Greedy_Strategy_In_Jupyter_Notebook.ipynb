{
 "cells": [
  {
   "cell_type": "code",
   "execution_count": 3,
   "id": "28544584-f1b2-4bc9-ab79-e2668b8baea0",
   "metadata": {},
   "outputs": [
    {
     "name": "stdout",
     "output_type": "stream",
     "text": [
      "f -> 0\n",
      "c -> 100\n",
      "d -> 101\n",
      "a -> 1100\n",
      "b -> 1101\n",
      "e -> 111\n"
     ]
    }
   ],
   "source": [
    "import heapq\n",
    "\n",
    "class Node:\n",
    "    def __init__(self, freq, symbol, left=None, right=None):\n",
    "        self.freq = freq           # Frequency of symbol\n",
    "        self.symbol = symbol       # Symbol name (character)\n",
    "        self.left = left           # Node left of current node\n",
    "        self.right = right         # Node right of current node\n",
    "        self.huff = ''             # Tree direction (0/1)\n",
    "\n",
    "    def __lt__(self, nxt):         # Check if current frequency is less than the next node's\n",
    "        return self.freq < nxt.freq\n",
    "\n",
    "def print_nodes(node, val=''):\n",
    "    newval = val + str(node.huff)\n",
    "    \n",
    "    # If node is not a leaf node, traverse it\n",
    "    if node.left:\n",
    "        print_nodes(node.left, newval)\n",
    "    if node.right:\n",
    "        print_nodes(node.right, newval)\n",
    "    \n",
    "    # If node is a leaf node, display its Huffman code\n",
    "    if not node.left and not node.right:\n",
    "        print(f\"{node.symbol} -> {newval}\")\n",
    "\n",
    "if __name__ == \"__main__\":\n",
    "    chars = ['a', 'b', 'c', 'd', 'e', 'f']\n",
    "    freq = [5, 9, 12, 13, 16, 45]\n",
    "    \n",
    "    nodes = []\n",
    "    \n",
    "    # Converting characters and frequencies into heap nodes\n",
    "    for i in range(len(chars)):\n",
    "        heapq.heappush(nodes, Node(freq[i], chars[i]))\n",
    "\n",
    "    while len(nodes) > 1:\n",
    "        left = heapq.heappop(nodes)\n",
    "        right = heapq.heappop(nodes)\n",
    "        \n",
    "        left.huff = 0\n",
    "        right.huff = 1\n",
    "        \n",
    "        # Combine the 2 smallest nodes to create a new parent node\n",
    "        newnode = Node(left.freq + right.freq, left.symbol + right.symbol, left, right)\n",
    "        \n",
    "        heapq.heappush(nodes, newnode)\n",
    "\n",
    "    # Print the Huffman codes\n",
    "    print_nodes(nodes[0])  # Passing root of Huffman Tree\n"
   ]
  },
  {
   "cell_type": "code",
   "execution_count": null,
   "id": "26d6d18e-ee90-4cc9-98be-fc0f56e2d4b8",
   "metadata": {},
   "outputs": [],
   "source": []
  }
 ],
 "metadata": {
  "kernelspec": {
   "display_name": "Python 3 (ipykernel)",
   "language": "python",
   "name": "python3"
  },
  "language_info": {
   "codemirror_mode": {
    "name": "ipython",
    "version": 3
   },
   "file_extension": ".py",
   "mimetype": "text/x-python",
   "name": "python",
   "nbconvert_exporter": "python",
   "pygments_lexer": "ipython3",
   "version": "3.12.4"
  }
 },
 "nbformat": 4,
 "nbformat_minor": 5
}
