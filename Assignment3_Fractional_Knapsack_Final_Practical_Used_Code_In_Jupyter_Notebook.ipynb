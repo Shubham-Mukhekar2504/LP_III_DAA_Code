{
 "cells": [
  {
   "cell_type": "code",
   "execution_count": 3,
   "id": "35983d1d-1526-44fb-aa05-c7a87e579493",
   "metadata": {},
   "outputs": [
    {
     "name": "stdout",
     "output_type": "stream",
     "text": [
      "Final Profit is: 240.0\n"
     ]
    }
   ],
   "source": [
    "# Fractional Knapsack Problem in Python\n",
    "\n",
    "# Function to calculate the maximum profit for the knapsack\n",
    "def fractional_knapsack(profit, weights, capacity):\n",
    "    # Calculate profit-to-weight ratio for each item\n",
    "    ratio = []\n",
    "    for i in range(len(profit)):\n",
    "        ratio.append((i, profit[i] / weights[i]))\n",
    "        \n",
    "    # Sort items based on their ratio in descending order\n",
    "    ratio.sort(key=lambda x: x[1], reverse=True)\n",
    "    \n",
    "    final_profit = 0  # Maximum profit we can carry\n",
    "    for i, r in ratio:\n",
    "        if capacity >= weights[i]:\n",
    "            # Take the whole item\n",
    "            final_profit += profit[i]\n",
    "            capacity -= weights[i]\n",
    "        else:\n",
    "            # Take the fraction of the remaining capacity\n",
    "            final_profit += r * capacity\n",
    "            break\n",
    "\n",
    "    return final_profit\n",
    "    \n",
    "if __name__ == \"__main__\":\n",
    "    # Example usage\n",
    "    profit = [60, 100, 120]\n",
    "    weights = [10, 20, 30]\n",
    "    capacity = 50\n",
    "    \n",
    "    # Output the final maximum profit that can be carried\n",
    "    print(\"Final Profit is:\", fractional_knapsack(profit, weights, capacity))\n"
   ]
  },
  {
   "cell_type": "code",
   "execution_count": null,
   "id": "b81d7597-bd2a-4d48-88b7-6d6ed8770bdc",
   "metadata": {},
   "outputs": [],
   "source": []
  }
 ],
 "metadata": {
  "kernelspec": {
   "display_name": "Python 3 (ipykernel)",
   "language": "python",
   "name": "python3"
  },
  "language_info": {
   "codemirror_mode": {
    "name": "ipython",
    "version": 3
   },
   "file_extension": ".py",
   "mimetype": "text/x-python",
   "name": "python",
   "nbconvert_exporter": "python",
   "pygments_lexer": "ipython3",
   "version": "3.12.4"
  }
 },
 "nbformat": 4,
 "nbformat_minor": 5
}
