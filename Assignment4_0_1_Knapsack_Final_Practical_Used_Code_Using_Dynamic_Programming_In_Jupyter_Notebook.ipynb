{
 "cells": [
  {
   "cell_type": "code",
   "execution_count": 43,
   "id": "b9c6c9aa-6286-4bf8-ab07-05d872c13b21",
   "metadata": {},
   "outputs": [
    {
     "name": "stdout",
     "output_type": "stream",
     "text": [
      "0 0 0 0 0 0 0 0 \n",
      "0 0 15 15 15 15 15 15 \n",
      "0 0 15 15 15 15 15 29 \n",
      "0 10 15 25 25 25 25 29 \n",
      "0 10 15 45 55 60 70 70 \n",
      "0 10 15 45 55 60 70 75 \n",
      "\n",
      "Maximum Profit by zero-one knapsack is: 75\n"
     ]
    }
   ],
   "source": [
    "def knapsack_tab(val, wt, W):\n",
    "    n = len(val)\n",
    "\n",
    "    # Initialize dp array using a nested loop\n",
    "    dp = []\n",
    "    for i in range(n + 1):\n",
    "        row = [0] * (W + 1)  # Create a row of zeros for each item\n",
    "        dp.append(row)\n",
    "\n",
    "    # Fill the dp array\n",
    "    for i in range(1, n + 1):\n",
    "        for j in range(1, W + 1):\n",
    "            v = val[i - 1]  # Value of the current item\n",
    "            w = wt[i - 1]   # Weight of the current item\n",
    "            if w <= j:\n",
    "                # Include the current item\n",
    "                inc_profit = v + dp[i - 1][j - w]\n",
    "                # Exclude the current item\n",
    "                exc_profit = dp[i - 1][j]\n",
    "                # Choose the maximum of including or excluding\n",
    "                dp[i][j] = max(inc_profit, exc_profit)\n",
    "            else:\n",
    "                # Cannot include the current item as its weight exceeds the capacity\n",
    "                dp[i][j] = dp[i - 1][j]\n",
    "\n",
    "    print_dp(dp)  # Print the dp array for visualization\n",
    "    return dp[n][W]  # Return the maximum value that can be accommodated in the knapsack\n",
    "\n",
    "def print_dp(dp):\n",
    "    # Print the dp array in a readable format\n",
    "    for row in dp:\n",
    "        for value in row:\n",
    "            print(value, end=\" \")\n",
    "        print()  # New line after each row\n",
    "    print()  # Extra new line after the whole dp table\n",
    "\n",
    "if __name__ == \"__main__\":\n",
    "    val = [15, 14, 10, 45, 30]  # Values of the items\n",
    "    wt = [2, 5, 1, 3, 4]        # Weights of the items\n",
    "    W = 7                        # Maximum weight capacity of the knapsack\n",
    "\n",
    "    # val = [1, 2, 5, 6]\n",
    "    # wt = [2, 3, 4, 5]\n",
    "    # W = 8\n",
    "\n",
    "    # Print the result of the knapsack_tab function\n",
    "    print(f\"Maximum Profit by zero-one knapsack is: {knapsack_tab(val, wt, W)}\")\n"
   ]
  },
  {
   "cell_type": "code",
   "execution_count": null,
   "id": "2eaddb80-f265-49fc-b775-bc7d5a79e45c",
   "metadata": {},
   "outputs": [],
   "source": [
    "   "
   ]
  }
 ],
 "metadata": {
  "kernelspec": {
   "display_name": "Python 3 (ipykernel)",
   "language": "python",
   "name": "python3"
  },
  "language_info": {
   "codemirror_mode": {
    "name": "ipython",
    "version": 3
   },
   "file_extension": ".py",
   "mimetype": "text/x-python",
   "name": "python",
   "nbconvert_exporter": "python",
   "pygments_lexer": "ipython3",
   "version": "3.12.4"
  }
 },
 "nbformat": 4,
 "nbformat_minor": 5
}
