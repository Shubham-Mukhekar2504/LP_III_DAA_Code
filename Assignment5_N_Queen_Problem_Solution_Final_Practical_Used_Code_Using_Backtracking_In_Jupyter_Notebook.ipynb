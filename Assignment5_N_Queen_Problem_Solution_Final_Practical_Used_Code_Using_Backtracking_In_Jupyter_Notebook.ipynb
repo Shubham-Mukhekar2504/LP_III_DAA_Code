{
 "cells": [
  {
   "cell_type": "code",
   "execution_count": 57,
   "id": "f6a316c2-1be6-41a8-8101-6b738975d130",
   "metadata": {},
   "outputs": [
    {
     "name": "stdin",
     "output_type": "stream",
     "text": [
      "Enter the value of n for n-Queens problem:  4\n"
     ]
    },
    {
     "name": "stdout",
     "output_type": "stream",
     "text": [
      "-----------Chess Board-----------\n",
      "X Q X X \n",
      "X X X Q \n",
      "Q X X X \n",
      "X X Q X \n",
      "\n",
      "-----------Chess Board-----------\n",
      "X X Q X \n",
      "Q X X X \n",
      "X X X Q \n",
      "X Q X X \n",
      "\n",
      "Total ways to solve n Queens = 2\n"
     ]
    }
   ],
   "source": [
    "def is_safe(board, row, col):\n",
    "    # Check for queens vertically up\n",
    "    for i in range(row - 1, -1, -1):\n",
    "        if board[i][col] == 'Q':\n",
    "            return False\n",
    "\n",
    "    # Check for queens on the diagonal left up\n",
    "    for i in range(row - 1, -1, -1):\n",
    "        j = col - (row - i)  # Calculate the column index for the diagonal left\n",
    "        if j >= 0 and board[i][j] == 'Q':\n",
    "            return False\n",
    "\n",
    "    # Check for queens on the diagonal right up\n",
    "    for i in range(row - 1, -1, -1):\n",
    "        j = col + (row - i)  # Calculate the column index for the diagonal right\n",
    "        if j < len(board) and board[i][j] == 'Q':\n",
    "            return False\n",
    "\n",
    "    return True\n",
    "\n",
    "def n_queen(board, row):\n",
    "    # Base case: if we've placed queens in all rows\n",
    "    if row == len(board):\n",
    "        print_board(board)  # Print the board configuration\n",
    "        return 1  # Return 1 for one solution found\n",
    "\n",
    "    count = 0  # Local counter for the number of solutions\n",
    "\n",
    "    # Try placing queens in all columns for the current row\n",
    "    for j in range(len(board)):\n",
    "        if is_safe(board, row, j):\n",
    "            board[row][j] = 'Q'  # Place queen\n",
    "            count += n_queen(board, row + 1)  # Recurse to place next queen\n",
    "            board[row][j] = 'X'  # Backtrack and remove queen\n",
    "\n",
    "    return count  # Return total solutions found\n",
    "\n",
    "def print_board(board):\n",
    "    print(\"-----------Chess Board-----------\")\n",
    "    for row in board:\n",
    "        for cell in row:  # Using \"cell\" to represent each item on the board\n",
    "            print(cell, end=\" \")  # Print each cell in the row\n",
    "        print()  # Move to the next line after printing the row\n",
    "    print()\n",
    "\n",
    "if __name__ == \"__main__\":\n",
    "    n = int(input(\"Enter the value of n for n-Queens problem: \"))\n",
    "    \n",
    "    # Base cases for n=1, n=2, and n=3 where there are limited or no solutions\n",
    "    if n == 2 or n == 3:\n",
    "        print(f\"No solution exists for n = {n}\")\n",
    "    else:\n",
    "        # Create an empty chess board of size n x n\n",
    "        board = []\n",
    "        for i in range(n):\n",
    "            row = []  # Create an empty row\n",
    "            for j in range(n):\n",
    "                row.append('X')  # Fill the row with 'X'\n",
    "            board.append(row)  # Add the row to the board\n",
    "\n",
    "        # Solve the n-Queens problem and get the total number of solutions\n",
    "        total_solutions = n_queen(board, 0)\n",
    "        print(f\"Total ways to solve n Queens = {total_solutions}\")\n"
   ]
  },
  {
   "cell_type": "code",
   "execution_count": null,
   "id": "1abe2025-7237-4f05-9274-18ca5ec600f2",
   "metadata": {},
   "outputs": [],
   "source": []
  }
 ],
 "metadata": {
  "kernelspec": {
   "display_name": "Python 3 (ipykernel)",
   "language": "python",
   "name": "python3"
  },
  "language_info": {
   "codemirror_mode": {
    "name": "ipython",
    "version": 3
   },
   "file_extension": ".py",
   "mimetype": "text/x-python",
   "name": "python",
   "nbconvert_exporter": "python",
   "pygments_lexer": "ipython3",
   "version": "3.12.4"
  }
 },
 "nbformat": 4,
 "nbformat_minor": 5
}
