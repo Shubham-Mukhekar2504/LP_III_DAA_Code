{
 "cells": [
  {
   "cell_type": "code",
   "execution_count": 11,
   "id": "4599d49d-2e66-4e01-85df-253b7b4ca022",
   "metadata": {},
   "outputs": [
    {
     "name": "stdin",
     "output_type": "stream",
     "text": [
      "Enter value of n:  5\n",
      "Enter value of k:  2\n"
     ]
    },
    {
     "name": "stdout",
     "output_type": "stream",
     "text": [
      "Binomial Coefficient C(5, 2) = 10\n"
     ]
    }
   ],
   "source": [
    "def binomial_coefficient(n, k):\n",
    "    # Create a 2D list C with dimensions (n+1) x (k+1)\n",
    "    C = []\n",
    "    for _ in range(n + 1):\n",
    "        C.append([0] * (k + 1))\n",
    "\n",
    "    # Calculate the binomial coefficients\n",
    "    for i in range(n + 1):\n",
    "        for j in range(min(i, k) + 1):\n",
    "            if j == 0 or j == i:\n",
    "                C[i][j] = 1  # Base case: C(n, 0) = C(n, n) = 1\n",
    "            else:\n",
    "                C[i][j] = C[i - 1][j - 1] + C[i - 1][j]  # Recursive relation\n",
    "\n",
    "    return C[n][k]  # Return the value of C(n, k)\n",
    "\n",
    "if __name__ == \"__main__\":\n",
    "    n = int(input(\"Enter value of n: \"))\n",
    "    k = int(input(\"Enter value of k: \"))\n",
    "    print(f\"Binomial Coefficient C({n}, {k}) = {binomial_coefficient(n, k)}\")\n"
   ]
  },
  {
   "cell_type": "code",
   "execution_count": null,
   "id": "94253bbc-f3f6-4e6a-842a-7e0db134f57c",
   "metadata": {},
   "outputs": [],
   "source": []
  }
 ],
 "metadata": {
  "kernelspec": {
   "display_name": "Python 3 (ipykernel)",
   "language": "python",
   "name": "python3"
  },
  "language_info": {
   "codemirror_mode": {
    "name": "ipython",
    "version": 3
   },
   "file_extension": ".py",
   "mimetype": "text/x-python",
   "name": "python",
   "nbconvert_exporter": "python",
   "pygments_lexer": "ipython3",
   "version": "3.12.4"
  }
 },
 "nbformat": 4,
 "nbformat_minor": 5
}
