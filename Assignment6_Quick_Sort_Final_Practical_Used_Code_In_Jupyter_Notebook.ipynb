{
 "cells": [
  {
   "cell_type": "code",
   "execution_count": 38,
   "id": "db47512d-5985-4c7d-b4e7-415a74c00b25",
   "metadata": {},
   "outputs": [
    {
     "name": "stdout",
     "output_type": "stream",
     "text": [
      "2 3 5 6 8 9 \n"
     ]
    }
   ],
   "source": [
    "# Function to print the array\n",
    "def print_arr(arr):\n",
    "    for i in arr:\n",
    "        print(i, end=\" \")\n",
    "    print()\n",
    "\n",
    "# Function to perform the QuickSort algorithm\n",
    "def quick_sort(arr, si, ei):\n",
    "    # Base case: if the starting index is greater or equal to the ending index\n",
    "    if si >= ei:\n",
    "        return\n",
    "    \n",
    "    # Partition the array and get the pivot index\n",
    "    p_idx = partition(arr, si, ei)\n",
    "    \n",
    "    # Recursively sort elements before and after partition\n",
    "    quick_sort(arr, si, p_idx - 1)  # Sort the left half\n",
    "    quick_sort(arr, p_idx + 1, ei)  # Sort the right half\n",
    "\n",
    "# Function to partition the array around a pivot\n",
    "def partition(arr, si, ei):\n",
    "    pivot = arr[ei]  # Choose the last element as the pivot\n",
    "    i = si - 1       # Initialize index for elements smaller than pivot\n",
    "    \n",
    "    # Traverse through the array, rearranging elements based on the pivot\n",
    "    for j in range(si, ei):\n",
    "        if arr[j] <= pivot:\n",
    "            i += 1\n",
    "            # Swap arr[i] and arr[j]\n",
    "            temp = arr[i]\n",
    "            arr[i] = arr[j]\n",
    "            arr[j] = temp\n",
    "\n",
    "    # Place the pivot element in its correct position\n",
    "    i += 1\n",
    "    temp = arr[ei]\n",
    "    arr[ei] = arr[i]\n",
    "    arr[i] = temp\n",
    "    \n",
    "    return i  # Return the index of the pivot element\n",
    "\n",
    "# Main function\n",
    "if __name__ == \"__main__\":\n",
    "    arr = [6, 3, 9, 8, 2, 5]  # Initialize array\n",
    "    quick_sort(arr, 0, len(arr) - 1)  # Sort the array\n",
    "    print_arr(arr)  # Print the sorted array\n"
   ]
  },
  {
   "cell_type": "code",
   "execution_count": null,
   "id": "5865a908-026c-4c27-8a1b-7b83eb107a5c",
   "metadata": {},
   "outputs": [],
   "source": []
  }
 ],
 "metadata": {
  "kernelspec": {
   "display_name": "Python 3 (ipykernel)",
   "language": "python",
   "name": "python3"
  },
  "language_info": {
   "codemirror_mode": {
    "name": "ipython",
    "version": 3
   },
   "file_extension": ".py",
   "mimetype": "text/x-python",
   "name": "python",
   "nbconvert_exporter": "python",
   "pygments_lexer": "ipython3",
   "version": "3.12.4"
  }
 },
 "nbformat": 4,
 "nbformat_minor": 5
}
